{
 "cells": [
  {
   "cell_type": "code",
   "execution_count": 35,
   "metadata": {},
   "outputs": [],
   "source": [
    "from neo4j import GraphDatabase\n",
    "import networkx as nx\n",
    "from pyvis.network import Network"
   ]
  },
  {
   "cell_type": "code",
   "execution_count": 36,
   "metadata": {},
   "outputs": [],
   "source": [
    "#set up netwneo4j session session\n",
    "uri = \"neo4j+s://5fc24d1b.databases.neo4j.io\"\n",
    "driver = GraphDatabase.driver(uri, auth=(\"neo4j\", \"thoBDJ-LSNaGUxKJmikvsrVELJ-vLRku2i03qPToNP0\"))\n",
    "driver.verify_connectivity()\n",
    "session = driver.session()"
   ]
  },
  {
   "cell_type": "code",
   "execution_count": 37,
   "metadata": {},
   "outputs": [],
   "source": [
    "result = session.run(\"Match (n1)-[r:RELATED]-(n2) Return n1,r,n2 Limit 100\")\n"
   ]
  },
  {
   "cell_type": "code",
   "execution_count": 38,
   "metadata": {},
   "outputs": [
    {
     "name": "stdout",
     "output_type": "stream",
     "text": [
      "Graph with 51 nodes and 50 edges\n"
     ]
    }
   ],
   "source": [
    "nx_graph = nx.Graph()\n",
    "for node in result:\n",
    "    data_dict = node.data()\n",
    "    if data_dict['n1'] and data_dict['n2']:\n",
    "        nx_graph.add_node(data_dict['n1']['name'], roles=data_dict['n1']['roles'])\n",
    "        nx_graph.add_node(data_dict['n2']['name'], roles=data_dict['n2']['roles'])\n",
    "        nx_graph.add_edge(data_dict['n1']['name'], data_dict['n2']['name'])\n",
    "print(nx_graph)"
   ]
  },
  {
   "cell_type": "code",
   "execution_count": 39,
   "metadata": {},
   "outputs": [],
   "source": [
    "net = Network(notebook=True, cdn_resources='in_line')\n",
    "net.from_nx(nx_graph)"
   ]
  },
  {
   "cell_type": "code",
   "execution_count": 40,
   "metadata": {},
   "outputs": [],
   "source": [
    "net.save_graph(name=\"test.html\")"
   ]
  }
 ],
 "metadata": {
  "kernelspec": {
   "display_name": "social_project_libs",
   "language": "python",
   "name": "python3"
  },
  "language_info": {
   "codemirror_mode": {
    "name": "ipython",
    "version": 3
   },
   "file_extension": ".py",
   "mimetype": "text/x-python",
   "name": "python",
   "nbconvert_exporter": "python",
   "pygments_lexer": "ipython3",
   "version": "3.11.8"
  }
 },
 "nbformat": 4,
 "nbformat_minor": 2
}
