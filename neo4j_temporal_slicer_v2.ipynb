{
 "cells": [
  {
   "cell_type": "markdown",
   "metadata": {},
   "source": [
    "basic demo file for getting snap shots of a given genre by year"
   ]
  },
  {
   "cell_type": "code",
   "execution_count": 9,
   "metadata": {},
   "outputs": [],
   "source": [
    "from neo4j import GraphDatabase\n",
    "import networkx as nx\n",
    "from pyvis.network import Network\n",
    "from ipysigma import Sigma"
   ]
  },
  {
   "cell_type": "markdown",
   "metadata": {},
   "source": [
    "set up the session file and define fuction for talking to the database"
   ]
  },
  {
   "cell_type": "code",
   "execution_count": 10,
   "metadata": {},
   "outputs": [],
   "source": [
    "password=\"\"\n",
    "uri = \"neo4j+s://5fc24d1b.databases.neo4j.io\"\n",
    "driver = GraphDatabase.driver(uri, auth=(\"neo4j\", \"thoBDJ-LSNaGUxKJmikvsrVELJ-vLRku2i03qPToNP0\"))\n",
    "driver.verify_connectivity()\n",
    "session = driver.session()\n",
    "\n",
    "def get_genre_year(session, genre : str, release_year : int):\n",
    "\n",
    "    g = nx.MultiGraph()\n",
    "    result = session.run(f\"Match (n1)-[r:RELATED]-(n2) WHERE r.genres CONTAINS '{genre}'  AND  r.release_date CONTAINS '{str(release_year)}' Return n1,r,n2\")\n",
    "    edges = []\n",
    "    for node in result:\n",
    "        data_dict = node.data()\n",
    "        if data_dict['n1'] and data_dict['n2']:\n",
    "            edges.append((data_dict['n1']['name'], data_dict['n2']['name']))\n",
    "    g.add_edges_from(edges)\n",
    "\n",
    "    return g\n",
    "\n",
    "def get_year(session, release_year : int):\n",
    "\n",
    "    g = nx.MultiGraph()\n",
    "    result = session.run(f\"Match (n1)-[r:RELATED]-(n2) WHERE r.release_date CONTAINS '{str(release_year)}' Return n1,r,n2\")\n",
    "    edges = []\n",
    "    for node in result:\n",
    "        data_dict = node.data()\n",
    "        if data_dict['n1'] and data_dict['n2']:\n",
    "            edges.append((data_dict['n1']['name'], data_dict['n2']['name']))\n",
    "    g.add_edges_from(edges)\n",
    "\n",
    "    return g\n",
    "\n",
    "def get_year_range(session, start_year : int, end_year : int):\n",
    "\n",
    "    g = nx.MultiGraph()\n",
    "    edges = []\n",
    "    for release_year in range(start_year, end_year+1):\n",
    "        result = session.run(f\"Match (n1)-[r:RELATED]-(n2) WHERE r.release_date CONTAINS '{str(release_year)}' Return n1,r,n2\")\n",
    "        for node in result:\n",
    "            data_dict = node.data()\n",
    "            if data_dict['n1'] and data_dict['n2']:\n",
    "                edges.append((data_dict['n1']['name'], data_dict['n2']['name']))\n",
    "\n",
    "    g.add_edges_from(edges)\n",
    "\n",
    "    return g\n"
   ]
  },
  {
   "cell_type": "code",
   "execution_count": 11,
   "metadata": {},
   "outputs": [],
   "source": [
    "\n",
    "last_g = nx.MultiGraph()\n",
    "genre = \"Comedy\"\n",
    "for year in [2018,2019,2020,2021, 2022, 2023] :\n",
    "    g = get_genre_year(session, genre, year)\n",
    "    last_g = nx.compose(g,last_g)\n",
    "g = last_g"
   ]
  },
  {
   "cell_type": "code",
   "execution_count": 12,
   "metadata": {},
   "outputs": [],
   "source": [
    "#closeness_centrality = nx.closeness_centrality(g)"
   ]
  },
  {
   "cell_type": "code",
   "execution_count": 13,
   "metadata": {},
   "outputs": [
    {
     "data": {
      "application/vnd.jupyter.widget-view+json": {
       "model_id": "1b0c738357ce4189afc6d0963c8eefd5",
       "version_major": 2,
       "version_minor": 0
      },
      "text/plain": [
       "Sigma(nx.MultiGraph with 2,155 nodes and 62,412 edges)"
      ]
     },
     "execution_count": 13,
     "metadata": {},
     "output_type": "execute_result"
    }
   ],
   "source": [
    "#Sigma(g, node_size=closeness_centrality, node_metrics={\"community\": \"louvain\"}, node_color=\"community\")"
   ]
  },
  {
   "cell_type": "code",
   "execution_count": 14,
   "metadata": {},
   "outputs": [],
   "source": [
    "betweenness_centrality = nx.betweenness_centrality(g)"
   ]
  },
  {
   "cell_type": "code",
   "execution_count": null,
   "metadata": {},
   "outputs": [
    {
     "data": {
      "application/vnd.jupyter.widget-view+json": {
       "model_id": "b85c66e0c94448e8b5db1408e6ea451b",
       "version_major": 2,
       "version_minor": 0
      },
      "text/plain": [
       "Sigma(nx.MultiGraph with 2,155 nodes and 62,412 edges)"
      ]
     },
     "execution_count": 7,
     "metadata": {},
     "output_type": "execute_result"
    }
   ],
   "source": [
    "Sigma(g, node_size=betweenness_centrality, node_metrics={\"community\": \"louvain\"}, node_color=\"community\")"
   ]
  },
  {
   "cell_type": "code",
   "execution_count": null,
   "metadata": {},
   "outputs": [
    {
     "data": {
      "application/vnd.jupyter.widget-view+json": {
       "model_id": "68afa755ee674bee9a20697b90930473",
       "version_major": 2,
       "version_minor": 0
      },
      "text/plain": [
       "Sigma(nx.MultiGraph with 2,155 nodes and 62,412 edges)"
      ]
     },
     "execution_count": 8,
     "metadata": {},
     "output_type": "execute_result"
    }
   ],
   "source": [
    "Sigma(g, node_size=g.degree, node_metrics={\"community\": \"louvain\"}, node_color=\"community\")"
   ]
  }
 ],
 "metadata": {
  "kernelspec": {
   "display_name": "Python 3 (ipykernel)",
   "language": "python",
   "name": "python3"
  },
  "language_info": {
   "codemirror_mode": {
    "name": "ipython",
    "version": 3
   },
   "file_extension": ".py",
   "mimetype": "text/x-python",
   "name": "python",
   "nbconvert_exporter": "python",
   "pygments_lexer": "ipython3",
   "version": "3.11.8"
  }
 },
 "nbformat": 4,
 "nbformat_minor": 4
}
