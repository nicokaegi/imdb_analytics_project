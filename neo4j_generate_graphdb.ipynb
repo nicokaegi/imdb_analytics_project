{
 "cells": [
  {
   "cell_type": "markdown",
   "metadata": {},
   "source": [
    "this file takes a set of movie.json files and turns them into a graphml files that you can then \n",
    "import into neo4j desktop\n",
    "\n",
    "to see how to actually import a graphml file into neo4j. install the apoc plugin in neo4j-desktop, and look at this stackoverflow post :\n",
    "\n",
    "https://stackoverflow.com/questions/52210619/how-to-import-a-networkx-graph-to-neo4j#52571797\n"
   ]
  },
  {
   "cell_type": "code",
   "execution_count": 36,
   "metadata": {},
   "outputs": [],
   "source": [
    "import pandas as pd\n",
    "import os\n",
    "import json\n",
    "import pprint\n",
    "import networkx as nx\n",
    "\n"
   ]
  },
  {
   "cell_type": "code",
   "execution_count": 37,
   "metadata": {},
   "outputs": [],
   "source": [
    "main_data = pd.read_csv(\"../imdb_data.csv\")"
   ]
  },
  {
   "cell_type": "code",
   "execution_count": 38,
   "metadata": {},
   "outputs": [],
   "source": [
    "movie_dir = \"movies\""
   ]
  },
  {
   "cell_type": "code",
   "execution_count": 39,
   "metadata": {},
   "outputs": [
    {
     "name": "stderr",
     "output_type": "stream",
     "text": [
      "/tmp/ipykernel_346024/1420732914.py:18: SettingWithCopyWarning: \n",
      "A value is trying to be set on a copy of a slice from a DataFrame\n",
      "\n",
      "See the caveats in the documentation: https://pandas.pydata.org/pandas-docs/stable/user_guide/indexing.html#returning-a-view-versus-a-copy\n",
      "  r_data.fillna(-42, inplace=True)\n",
      "/tmp/ipykernel_346024/1420732914.py:18: FutureWarning: Downcasting object dtype arrays on .fillna, .ffill, .bfill is deprecated and will change in a future version. Call result.infer_objects(copy=False) instead. To opt-in to the future behavior, set `pd.set_option('future.no_silent_downcasting', True)`\n",
      "  r_data.fillna(-42, inplace=True)\n"
     ]
    }
   ],
   "source": [
    "columns = ['id', 'primaryTitle', 'runtimeMinutes', 'genres', 'averageRating', 'numVotes', 'budget', 'gross', 'release_date']\n",
    "\n",
    "def load_and_prep(main_data : pd.DataFrame, movie_dir : str, columns : list, number_of_movies=100):\n",
    "    '''\n",
    "    take the data from a movie cast folder, pairs it with datafrom the imdb movie data.\n",
    "    if a partiular value is missing for whatever reason it's marked with a -42\n",
    "    '''\n",
    "    movie_list = os.listdir(movie_dir)\n",
    "    cast_and_movie = []\n",
    "    for movie in movie_list[:number_of_movies]:\n",
    "        relation_dict = {}\n",
    "        with open(f\"{movie_dir}/{movie}\", \"r\") as in_file:\n",
    "            movie_dict = json.load(in_file)\n",
    "            for column in columns:\n",
    "                record = main_data[main_data[\"primaryTitle\"] == movie_dict[\"name\"]]\n",
    "                if not record.empty:\n",
    "                    r_data = record[column]\n",
    "                    r_data.fillna(-42, inplace=True)\n",
    "                    relation_dict[column] = r_data.values[0]\n",
    "        movie_dict['imdb_data'] = relation_dict\n",
    "        cast_and_movie.append(movie_dict)\n",
    "\n",
    "    return cast_and_movie\n",
    "\n",
    "cast_and_movie = load_and_prep(main_data, movie_dir, columns, number_of_movies=2500)"
   ]
  },
  {
   "cell_type": "code",
   "execution_count": 40,
   "metadata": {},
   "outputs": [
    {
     "data": {
      "text/plain": [
       "{'id': 'tt1646987',\n",
       " 'primaryTitle': 'Wrath of the Titans',\n",
       " 'runtimeMinutes': 99,\n",
       " 'genres': 'Action,Adventure,Fantasy',\n",
       " 'averageRating': 5.7,\n",
       " 'numVotes': 193787,\n",
       " 'budget': 150000000,\n",
       " 'gross': 301970083.0,\n",
       " 'release_date': 'March 28, 2012'}"
      ]
     },
     "execution_count": 40,
     "metadata": {},
     "output_type": "execute_result"
    }
   ],
   "source": [
    "cast_and_movie[0]['imdb_data']"
   ]
  },
  {
   "cell_type": "code",
   "execution_count": 41,
   "metadata": {},
   "outputs": [
    {
     "name": "stdout",
     "output_type": "stream",
     "text": [
      "MultiGraph with 22748 nodes and 591832 edges\n"
     ]
    }
   ],
   "source": [
    "# what specific departments from a movie that one wishes to include\n",
    "# for now I just added the important looking ones --Nico\n",
    "role_set = ['director', 'writer', 'producer', 'composer', 'cinematographer', 'editor', 'cast']\n",
    "\n",
    "def add_relationships(g : nx.MultiGraph, people_set : set, imdb_data : dict):\n",
    "    # add edges between all the nodes\n",
    "    # each edge represents a movie that the two people worked on\n",
    "    # includes all data about that movie from imdb.csv except for \n",
    "    edge_set = set({})\n",
    "    while len(people_set) != 0:\n",
    "        person_1 = people_set.pop()\n",
    "        for person_2 in people_set:\n",
    "            edge_set.add((person_1, person_2))\n",
    "\n",
    "    for edge in edge_set:\n",
    "        g.add_edge(*edge, **imdb_data)\n",
    "    return g\n",
    "\n",
    "def add_people_nodes(g : nx.MultiGraph, set_of_people : list, new_role : str):\n",
    "    # adds a set of nodes which represnts people to the graph\n",
    "    # they are labled with the set of jobs they played durring their carrier \n",
    "    # represented by a simple comma seperated list\n",
    "    for person in set_of_people:\n",
    "        if g.has_node(person):\n",
    "            g.nodes[person][\"roles\"].add(new_role)\n",
    "        else:\n",
    "            g.add_node(person, name=person, roles=set({new_role}))\n",
    "\n",
    "def fix_lables(g : nx.MultiGraph):\n",
    "    # a last minute addition since it seems graph ml doesn't like lists \n",
    "    new_node_lables = {}\n",
    "    for node in g.nodes:\n",
    "        new_node_lables[node] = \",\".join(g.nodes[node][\"roles\"])\n",
    "    nx.set_node_attributes(g, new_node_lables, name=\"roles\")\n",
    "\n",
    "def load_data(cast_and_movie : list, role_set : list, number_of_cast=10):\n",
    "    # basicly takes in a list of movies (each represented by json records) \n",
    "    # and builds a social graph where each node is a person and each edge is a movie \n",
    "    # that two people worked on togther \n",
    "    pos = 0\n",
    "    graph_g = nx.MultiGraph()\n",
    "    for movie in cast_and_movie:\n",
    "        # people are in a set to cut down on duplicate nodes\n",
    "        # a single person can have multiple roles after all\n",
    "        people_set = set()\n",
    "        for role_name in role_set:       \n",
    "            # extra check since cast has a lot of \n",
    "            # not super relevent people     \n",
    "            if role_name != 'cast':\n",
    "                # get all the people based in what job\n",
    "                # they had in the movie\n",
    "                people = movie[role_name]\n",
    "                add_people_nodes(graph_g, people, role_name)\n",
    "            else:\n",
    "                people = movie[role_name][:number_of_cast]\n",
    "                add_people_nodes(graph_g, people, role_name)\n",
    "            people_set.update(people)\n",
    "        add_relationships(graph_g, people_set, movie['imdb_data'])\n",
    "        \n",
    "    # turns out graphml doesn't like collections\n",
    "    fix_lables(graph_g)\n",
    "\n",
    "    return graph_g\n",
    "\n",
    "graph_g = load_data(cast_and_movie, role_set, 8)\n",
    "print(graph_g)"
   ]
  },
  {
   "cell_type": "code",
   "execution_count": 42,
   "metadata": {},
   "outputs": [
    {
     "name": "stdout",
     "output_type": "stream",
     "text": [
      "MultiGraph with 22748 nodes and 591832 edges\n"
     ]
    }
   ],
   "source": [
    "print(graph_g)\n"
   ]
  },
  {
   "cell_type": "code",
   "execution_count": 43,
   "metadata": {},
   "outputs": [],
   "source": [
    "nx.write_graphml(graph_g, './main.graphml')\n"
   ]
  }
 ],
 "metadata": {
  "kernelspec": {
   "display_name": "Python 3",
   "language": "python",
   "name": "python3"
  },
  "language_info": {
   "codemirror_mode": {
    "name": "ipython",
    "version": 3
   },
   "file_extension": ".py",
   "mimetype": "text/x-python",
   "name": "python",
   "nbconvert_exporter": "python",
   "pygments_lexer": "ipython3",
   "version": "3.11.8"
  }
 },
 "nbformat": 4,
 "nbformat_minor": 2
}
